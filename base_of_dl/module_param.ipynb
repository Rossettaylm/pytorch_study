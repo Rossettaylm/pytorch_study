{
 "cells": [
  {
   "cell_type": "code",
   "execution_count": 2,
   "metadata": {},
   "outputs": [],
   "source": [
    "import torch\n",
    "from torch import nn"
   ]
  },
  {
   "cell_type": "code",
   "execution_count": 3,
   "metadata": {},
   "outputs": [
    {
     "name": "stdout",
     "output_type": "stream",
     "text": [
      "Sequential(\n",
      "  (0): Linear(in_features=4, out_features=3, bias=True)\n",
      "  (1): ReLU()\n",
      "  (2): Linear(in_features=3, out_features=1, bias=True)\n",
      ")\n"
     ]
    }
   ],
   "source": [
    "net = nn.Sequential(nn.Linear(4, 3), nn.ReLU(), nn.Linear(3, 1))\n",
    "print(net)"
   ]
  },
  {
   "cell_type": "code",
   "execution_count": 4,
   "metadata": {},
   "outputs": [
    {
     "name": "stdout",
     "output_type": "stream",
     "text": [
      "weight torch.Size([3, 4])\n",
      "weight Parameter containing:\n",
      "tensor([[ 0.4904,  0.3275,  0.4002,  0.1335],\n",
      "        [ 0.1689, -0.1981,  0.0313,  0.4232],\n",
      "        [-0.4650, -0.2535, -0.1201,  0.2069]], requires_grad=True)\n",
      "weight Parameter containing:\n",
      "tensor([[ 0.0030, -0.0119,  0.0025,  0.0193],\n",
      "        [ 0.0172,  0.0021, -0.0174, -0.0045],\n",
      "        [-0.0056,  0.0121,  0.0061, -0.0029]], requires_grad=True)\n",
      "bias torch.Size([3])\n",
      "bias Parameter containing:\n",
      "tensor([-0.3915,  0.2877, -0.2407], requires_grad=True)\n",
      "bias Parameter containing:\n",
      "tensor([0., 0., 0.], requires_grad=True)\n"
     ]
    }
   ],
   "source": [
    "# 初始化权重和偏置\n",
    "for name, param in net[0].named_parameters():\n",
    "    print(name, param.shape)\n",
    "    print(name, param)\n",
    "    if \"weight\" in name:\n",
    "        torch.nn.init.normal_(param, mean=0, std=0.01)\n",
    "    if \"bias\" in name:\n",
    "        torch.nn.init.constant_(param, val=0)\n",
    "    print(name, param)"
   ]
  },
  {
   "cell_type": "code",
   "execution_count": 5,
   "metadata": {},
   "outputs": [],
   "source": [
    "filepath = './test.pth'\n",
    "torch.save(net.state_dict, filepath)"
   ]
  },
  {
   "cell_type": "code",
   "execution_count": null,
   "metadata": {},
   "outputs": [],
   "source": []
  }
 ],
 "metadata": {
  "interpreter": {
   "hash": "cd8ac7ed5329ff1f59a8356dfddf06d159cf18414acbfd7b13d1d5cd1cbb5d7d"
  },
  "kernelspec": {
   "display_name": "Python 3.8.8 64-bit ('base': conda)",
   "name": "python3"
  },
  "language_info": {
   "codemirror_mode": {
    "name": "ipython",
    "version": 3
   },
   "file_extension": ".py",
   "mimetype": "text/x-python",
   "name": "python",
   "nbconvert_exporter": "python",
   "pygments_lexer": "ipython3",
   "version": "3.8.8"
  },
  "orig_nbformat": 4
 },
 "nbformat": 4,
 "nbformat_minor": 2
}
