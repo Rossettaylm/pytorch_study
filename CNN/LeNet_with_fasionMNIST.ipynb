{
 "cells": [
  {
   "cell_type": "code",
   "execution_count": null,
   "metadata": {},
   "outputs": [],
   "source": [
    "import torch\n",
    "from torch import nn\n",
    "from torchvision import datasets\n",
    "from torchvision.transforms import ToTensor\n",
    "from matplotlib import pyplot as plt"
   ]
  },
  {
   "cell_type": "code",
   "execution_count": null,
   "metadata": {},
   "outputs": [],
   "source": [
    "train_data = datasets.FashionMNIST(\n",
    "    root=\"../fasionMNIST/data\",\n",
    "    train=True,\n",
    "    download=False,\n",
    "    transform=ToTensor())\n",
    "\n",
    "test_data = datasets.FashionMNIST(\n",
    "    root=\"../fasionMNIST/data\",\n",
    "    train=False,\n",
    "    download=False, \n",
    "    transform=ToTensor()\n",
    ")\n",
    "\n",
    "batch_size = 64\n",
    "train_dataloader = torch.utils.data.DataLoader(train_data, batch_size=batch_size)\n",
    "test_dataloader = torch.utils.data.DataLoader(test_data, batch_size=batch_size)\n"
   ]
  },
  {
   "cell_type": "code",
   "execution_count": null,
   "metadata": {},
   "outputs": [],
   "source": [
    "class LeNet(nn.Module):\n",
    "    def __init__(self):\n",
    "        super().__init__()\n",
    "        self.conv = nn.Sequential(\n",
    "            nn.Conv2d(1, 6, 5), # 28 - 5 + 1 = 24\n",
    "            nn.ReLU(),\n",
    "            nn.MaxPool2d(2, 2), # 24 / 2 = 12\n",
    "            nn.Conv2d(6, 16, 5), # 12 - 5 + 1 = 8\n",
    "            nn.ReLU(),\n",
    "            nn.MaxPool2d(2, 2) # 8 / 2 = 4\n",
    "        )\n",
    "        self.fc = nn.Sequential(\n",
    "            nn.Linear(16*4*4, 120),  # 十六通道特征图，每个都是4 × 4大小\n",
    "            nn.ReLU(),\n",
    "            nn.Linear(120, 84), \n",
    "            nn.ReLU(),\n",
    "            nn.Linear(84, 10),  \n",
    "        )\n",
    "    def forward(self, X):\n",
    "        feature = self.conv(X)\n",
    "        output = self.fc(feature.view(X.shape[0], -1))\n",
    "        return output\n"
   ]
  },
  {
   "cell_type": "code",
   "execution_count": null,
   "metadata": {},
   "outputs": [],
   "source": [
    "model = LeNet()\n",
    "print(model)"
   ]
  },
  {
   "cell_type": "code",
   "execution_count": null,
   "metadata": {},
   "outputs": [],
   "source": [
    "for name, param in model.conv.named_parameters():\n",
    "    print(name, param.shape)\n",
    "print()\n",
    "for name, param in model.fc.named_parameters():\n",
    "    print(name, param.shape)"
   ]
  },
  {
   "cell_type": "code",
   "execution_count": null,
   "metadata": {},
   "outputs": [],
   "source": [
    "loss_fn = nn.CrossEntropyLoss() \n",
    "optimizer = torch.optim.SGD(model.parameters(), lr=0.01)\n",
    "loss_list = []"
   ]
  },
  {
   "cell_type": "code",
   "execution_count": null,
   "metadata": {},
   "outputs": [],
   "source": [
    "def train(dataloader, model, loss_fn, optimizer):\n",
    "    model.train()\n",
    "    size = len(dataloader.dataset)\n",
    "    for batch, (X, y) in enumerate(dataloader):\n",
    "        pred = model(X)\n",
    "        loss = loss_fn(pred, y)\n",
    "        optimizer.zero_grad()\n",
    "        loss.backward()\n",
    "        optimizer.step()\n",
    "        if batch % 100 == 0:  \n",
    "            loss, current = loss.item(), batch * len(X)\n",
    "            print(f\"loss: {loss:.6f}  [{current:5d}/{size:5d}]\")\n",
    "\n",
    "def test(dataloader, model, loss_fn):\n",
    "    model.eval()\n",
    "    loss, correct = 0, 0\n",
    "    num_batches = len(dataloader)\n",
    "    size = len(dataloader.dataset)\n",
    "    with torch.no_grad():\n",
    "        for X, y in dataloader:\n",
    "            pred = model(X)\n",
    "            loss += loss_fn(pred, y).item()\n",
    "            correct += (pred.argmax(1) == y).float().sum().item()\n",
    "        loss /= num_batches\n",
    "        loss_list.append(loss)\n",
    "        correct /= size\n",
    "    print(\"Avg Loss: {:.6f}\\tAccuracy: {:.2f}%\".format(loss, correct*100))        \n",
    "    "
   ]
  },
  {
   "cell_type": "code",
   "execution_count": null,
   "metadata": {},
   "outputs": [],
   "source": [
    "epoches = 50\n",
    "for epoch in range(epoches):\n",
    "    print(\"Epoch {}\\n-------------\".format(epoch+1))\n",
    "    train(train_dataloader, model, loss_fn, optimizer)\n",
    "    test(test_dataloader, model, loss_fn)\n",
    "\n"
   ]
  },
  {
   "cell_type": "code",
   "execution_count": null,
   "metadata": {},
   "outputs": [],
   "source": [
    "def plotLoss(epoches, loss_list):\n",
    "    plt.scatter(range(epoches), loss_list, c='r', s=1, label='Lost of epoch')\n",
    "    plt.legend(loc='upper right')\n",
    "    plt.title('Loss with training')\n",
    "    plt.show()\n",
    "\n",
    "plotLoss(epoches, loss_list)"
   ]
  }
 ],
 "metadata": {
  "interpreter": {
   "hash": "3e357e7cff7c5b1dd6383ad260e87ce8a8a7ab5594eb652d9253b84adf90c718"
  },
  "kernelspec": {
   "display_name": "Python 3.8.10 64-bit ('dl': conda)",
   "name": "python3"
  },
  "language_info": {
   "codemirror_mode": {
    "name": "ipython",
    "version": 3
   },
   "file_extension": ".py",
   "mimetype": "text/x-python",
   "name": "python",
   "nbconvert_exporter": "python",
   "pygments_lexer": "ipython3",
   "version": "3.8.10"
  },
  "orig_nbformat": 4
 },
 "nbformat": 4,
 "nbformat_minor": 2
}
