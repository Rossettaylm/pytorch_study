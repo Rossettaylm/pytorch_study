{
 "cells": [
  {
   "cell_type": "code",
   "execution_count": 1,
   "metadata": {},
   "outputs": [],
   "source": [
    "import torch\n",
    "from torch import nn \n",
    "from torch.utils.data import DataLoader\n",
    "from torchvision.transforms import ToTensor, Resize, Compose\n",
    "from torchvision import datasets"
   ]
  },
  {
   "cell_type": "code",
   "execution_count": 2,
   "metadata": {},
   "outputs": [],
   "source": [
    "def load_fasion_mnist_data(batch_size, resize=None):\n",
    "    trans = []\n",
    "    if resize:\n",
    "        trans.append(Resize(resize))\n",
    "    trans.append(ToTensor())\n",
    "    transform = Compose(trans)\n",
    "    train_data = datasets.FashionMNIST(\n",
    "        root=\"../fasionMNIST/data\", \n",
    "        download=False, \n",
    "        train=True, \n",
    "        transform=transform\n",
    "    )\n",
    "    test_data = datasets.FashionMNIST(\n",
    "        root=\"../fasionMNIST/data\", \n",
    "        download=False, \n",
    "        train=True, \n",
    "        transform=transform\n",
    "    )\n",
    "    train_dataloader = DataLoader(train_data, batch_size, shuffle=True, num_workers=8)\n",
    "    test_dataloader = DataLoader(test_data, batch_size, shuffle=True, num_workers=8)\n",
    "    return train_dataloader, test_dataloader"
   ]
  },
  {
   "cell_type": "code",
   "execution_count": null,
   "metadata": {},
   "outputs": [],
   "source": [
    "train_dataloader, test_dataloader = load_fasion_mnist_data(64, resize=224)"
   ]
  }
 ],
 "metadata": {
  "interpreter": {
   "hash": "c0f184e1a4ef8b843ce9d08d4bad624bd1785f539852e9584bc504f988ebdfd4"
  },
  "kernelspec": {
   "display_name": "Python 3.8.8 64-bit ('base': conda)",
   "name": "python3"
  },
  "language_info": {
   "codemirror_mode": {
    "name": "ipython",
    "version": 3
   },
   "file_extension": ".py",
   "mimetype": "text/x-python",
   "name": "python",
   "nbconvert_exporter": "python",
   "pygments_lexer": "ipython3",
   "version": "3.8.8"
  },
  "orig_nbformat": 4
 },
 "nbformat": 4,
 "nbformat_minor": 2
}
